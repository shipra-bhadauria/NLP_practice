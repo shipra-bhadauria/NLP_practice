{
  "nbformat": 4,
  "nbformat_minor": 0,
  "metadata": {
    "colab": {
      "name": "music-speech cassification.ipynb",
      "provenance": [],
      "collapsed_sections": []
    },
    "kernelspec": {
      "name": "python3",
      "display_name": "Python 3"
    }
  },
  "cells": [
    {
      "cell_type": "code",
      "metadata": {
        "id": "ElQTB09inVpE"
      },
      "source": [
        "import numpy as np\r\n",
        "import pandas as pd\r\n",
        "import matplotlib.pyplot as plt\r\n",
        "import sklearn\r\n",
        "from sklearn.preprocessing import Normalizer\r\n",
        "from sklearn.preprocessing import LabelEncoder\r\n",
        "from sklearn.model_selection import train_test_split"
      ],
      "execution_count": 76,
      "outputs": []
    },
    {
      "cell_type": "code",
      "metadata": {
        "id": "Fbg9bwftngqS"
      },
      "source": [
        "df = pd.read_csv('https://raw.githubusercontent.com/jyotinarang2/Speech_Music_Classification/master/gtzan_features.csv')"
      ],
      "execution_count": 43,
      "outputs": []
    },
    {
      "cell_type": "code",
      "metadata": {
        "colab": {
          "base_uri": "https://localhost:8080/",
          "height": 206
        },
        "id": "OE5VATs-nnsE",
        "outputId": "15b39a7d-7f50-485d-ffa3-25faebd76e1f"
      },
      "source": [
        "df.head()"
      ],
      "execution_count": 44,
      "outputs": [
        {
          "output_type": "execute_result",
          "data": {
            "text/html": [
              "<div>\n",
              "<style scoped>\n",
              "    .dataframe tbody tr th:only-of-type {\n",
              "        vertical-align: middle;\n",
              "    }\n",
              "\n",
              "    .dataframe tbody tr th {\n",
              "        vertical-align: top;\n",
              "    }\n",
              "\n",
              "    .dataframe thead th {\n",
              "        text-align: right;\n",
              "    }\n",
              "</style>\n",
              "<table border=\"1\" class=\"dataframe\">\n",
              "  <thead>\n",
              "    <tr style=\"text-align: right;\">\n",
              "      <th></th>\n",
              "      <th>RMS</th>\n",
              "      <th>Spectral Slope</th>\n",
              "      <th>Zero Crossings</th>\n",
              "      <th>MFCC(2)</th>\n",
              "      <th>Spectral RollOff</th>\n",
              "      <th>MFCC(4)</th>\n",
              "      <th>MFCC(13)</th>\n",
              "      <th>MFCC(11)</th>\n",
              "      <th>MFCC(1)</th>\n",
              "      <th>MFCC(12)</th>\n",
              "      <th>Spectral Spread</th>\n",
              "      <th>Class</th>\n",
              "    </tr>\n",
              "  </thead>\n",
              "  <tbody>\n",
              "    <tr>\n",
              "      <th>0</th>\n",
              "      <td>-20.187</td>\n",
              "      <td>-9.740000e-07</td>\n",
              "      <td>0.075458</td>\n",
              "      <td>2.2779</td>\n",
              "      <td>493</td>\n",
              "      <td>1.24320</td>\n",
              "      <td>0.095795</td>\n",
              "      <td>-0.128390</td>\n",
              "      <td>-25.954</td>\n",
              "      <td>-0.017165</td>\n",
              "      <td>616.68</td>\n",
              "      <td>'music'</td>\n",
              "    </tr>\n",
              "    <tr>\n",
              "      <th>1</th>\n",
              "      <td>-16.315</td>\n",
              "      <td>-2.270000e-06</td>\n",
              "      <td>0.098657</td>\n",
              "      <td>2.9004</td>\n",
              "      <td>462</td>\n",
              "      <td>0.36602</td>\n",
              "      <td>-0.339310</td>\n",
              "      <td>-0.050032</td>\n",
              "      <td>-22.565</td>\n",
              "      <td>-0.726760</td>\n",
              "      <td>878.82</td>\n",
              "      <td>'speech'</td>\n",
              "    </tr>\n",
              "    <tr>\n",
              "      <th>2</th>\n",
              "      <td>-21.369</td>\n",
              "      <td>-5.690000e-07</td>\n",
              "      <td>0.044689</td>\n",
              "      <td>2.3677</td>\n",
              "      <td>1184</td>\n",
              "      <td>0.75089</td>\n",
              "      <td>0.198910</td>\n",
              "      <td>0.214620</td>\n",
              "      <td>-27.885</td>\n",
              "      <td>0.434850</td>\n",
              "      <td>597.75</td>\n",
              "      <td>'music'</td>\n",
              "    </tr>\n",
              "    <tr>\n",
              "      <th>3</th>\n",
              "      <td>-17.724</td>\n",
              "      <td>-1.230000e-06</td>\n",
              "      <td>0.116730</td>\n",
              "      <td>1.8504</td>\n",
              "      <td>1170</td>\n",
              "      <td>0.72793</td>\n",
              "      <td>0.125660</td>\n",
              "      <td>0.197170</td>\n",
              "      <td>-23.188</td>\n",
              "      <td>0.333370</td>\n",
              "      <td>1250.10</td>\n",
              "      <td>'music'</td>\n",
              "    </tr>\n",
              "    <tr>\n",
              "      <th>4</th>\n",
              "      <td>-29.913</td>\n",
              "      <td>-4.980000e-07</td>\n",
              "      <td>0.094017</td>\n",
              "      <td>2.3898</td>\n",
              "      <td>561</td>\n",
              "      <td>1.44410</td>\n",
              "      <td>0.631700</td>\n",
              "      <td>-0.117360</td>\n",
              "      <td>-26.718</td>\n",
              "      <td>-0.440910</td>\n",
              "      <td>1015.50</td>\n",
              "      <td>'speech'</td>\n",
              "    </tr>\n",
              "  </tbody>\n",
              "</table>\n",
              "</div>"
            ],
            "text/plain": [
              "      RMS  Spectral Slope  Zero Crossings  ...  MFCC(12)  Spectral Spread     Class\n",
              "0 -20.187   -9.740000e-07        0.075458  ... -0.017165           616.68   'music'\n",
              "1 -16.315   -2.270000e-06        0.098657  ... -0.726760           878.82  'speech'\n",
              "2 -21.369   -5.690000e-07        0.044689  ...  0.434850           597.75   'music'\n",
              "3 -17.724   -1.230000e-06        0.116730  ...  0.333370          1250.10   'music'\n",
              "4 -29.913   -4.980000e-07        0.094017  ... -0.440910          1015.50  'speech'\n",
              "\n",
              "[5 rows x 12 columns]"
            ]
          },
          "metadata": {
            "tags": []
          },
          "execution_count": 44
        }
      ]
    },
    {
      "cell_type": "code",
      "metadata": {
        "colab": {
          "base_uri": "https://localhost:8080/"
        },
        "id": "38j_wLH4ny-t",
        "outputId": "1907e55a-1d18-470c-acfa-7099f1cbdaf6"
      },
      "source": [
        "df.columns"
      ],
      "execution_count": 5,
      "outputs": [
        {
          "output_type": "execute_result",
          "data": {
            "text/plain": [
              "Index(['RMS', 'Spectral Slope', 'Zero Crossings', 'MFCC(2)',\n",
              "       'Spectral RollOff', 'MFCC(4)', 'MFCC(13)', 'MFCC(11)', 'MFCC(1)',\n",
              "       'MFCC(12)', 'Spectral Spread', 'Class'],\n",
              "      dtype='object')"
            ]
          },
          "metadata": {
            "tags": []
          },
          "execution_count": 5
        }
      ]
    },
    {
      "cell_type": "code",
      "metadata": {
        "id": "oOyOapDUohMe"
      },
      "source": [
        "msx = df.drop('Class',axis=1).values\r\n",
        "msy = df['Class'].values"
      ],
      "execution_count": 45,
      "outputs": []
    },
    {
      "cell_type": "code",
      "metadata": {
        "colab": {
          "base_uri": "https://localhost:8080/"
        },
        "id": "-Q66BV4t8TrT",
        "outputId": "05d111b2-f7e1-4238-ab85-62bf089a206d"
      },
      "source": [
        "msx"
      ],
      "execution_count": 85,
      "outputs": [
        {
          "output_type": "execute_result",
          "data": {
            "text/plain": [
              "array([[-2.0187e+01, -9.7400e-07,  7.5458e-02, ..., -2.5954e+01,\n",
              "        -1.7165e-02,  6.1668e+02],\n",
              "       [-1.6315e+01, -2.2700e-06,  9.8657e-02, ..., -2.2565e+01,\n",
              "        -7.2676e-01,  8.7882e+02],\n",
              "       [-2.1369e+01, -5.6900e-07,  4.4689e-02, ..., -2.7885e+01,\n",
              "         4.3485e-01,  5.9775e+02],\n",
              "       ...,\n",
              "       [-2.4526e+01, -2.3300e-08,  3.9096e-01, ..., -2.7066e+01,\n",
              "         7.2594e-02,  5.0223e+03],\n",
              "       [-1.6852e+01, -1.0500e-06,  1.7680e-01, ..., -2.2962e+01,\n",
              "        -2.9347e-01,  2.7375e+03],\n",
              "       [-1.1207e+01, -2.5100e-06,  5.9096e-02, ..., -2.2527e+01,\n",
              "         7.6531e-02,  7.0382e+02]])"
            ]
          },
          "metadata": {
            "tags": []
          },
          "execution_count": 85
        }
      ]
    },
    {
      "cell_type": "code",
      "metadata": {
        "id": "YW__K_mSq4VS"
      },
      "source": [
        "le = LabelEncoder()"
      ],
      "execution_count": 46,
      "outputs": []
    },
    {
      "cell_type": "code",
      "metadata": {
        "id": "fst6IepEseFn"
      },
      "source": [
        "msy = le.fit_transform(msy)"
      ],
      "execution_count": 47,
      "outputs": []
    },
    {
      "cell_type": "code",
      "metadata": {
        "colab": {
          "base_uri": "https://localhost:8080/"
        },
        "id": "VTF7kLMj1LhU",
        "outputId": "50ce69d2-3189-4eec-ee3d-42499d893cb0"
      },
      "source": [
        "msy"
      ],
      "execution_count": 48,
      "outputs": [
        {
          "output_type": "execute_result",
          "data": {
            "text/plain": [
              "array([0, 1, 0, ..., 1, 1, 1])"
            ]
          },
          "metadata": {
            "tags": []
          },
          "execution_count": 48
        }
      ]
    },
    {
      "cell_type": "code",
      "metadata": {
        "id": "GLZvXDEvpE2b"
      },
      "source": [
        "scaler = Normalizer()"
      ],
      "execution_count": 49,
      "outputs": []
    },
    {
      "cell_type": "code",
      "metadata": {
        "id": "cH0MYPQGpGAY"
      },
      "source": [
        "X_train,X_test,y_train,y_test = train_test_split(msx,msy,test_size=0.2,random_state=101)"
      ],
      "execution_count": 50,
      "outputs": []
    },
    {
      "cell_type": "code",
      "metadata": {
        "colab": {
          "base_uri": "https://localhost:8080/"
        },
        "id": "b3bS-P4Tqk5m",
        "outputId": "d78e4620-88d7-481c-a8a0-629d4924d003"
      },
      "source": [
        "scaler.fit(X_train)"
      ],
      "execution_count": 51,
      "outputs": [
        {
          "output_type": "execute_result",
          "data": {
            "text/plain": [
              "Normalizer(copy=True, norm='l2')"
            ]
          },
          "metadata": {
            "tags": []
          },
          "execution_count": 51
        }
      ]
    },
    {
      "cell_type": "code",
      "metadata": {
        "id": "UeNt8ipzqtQC"
      },
      "source": [
        "X_train = scaler.transform(X_train)"
      ],
      "execution_count": 52,
      "outputs": []
    },
    {
      "cell_type": "code",
      "metadata": {
        "id": "3lYwmwCdqyjK"
      },
      "source": [
        "X_test = scaler.transform(X_test)"
      ],
      "execution_count": 53,
      "outputs": []
    },
    {
      "cell_type": "code",
      "metadata": {
        "colab": {
          "base_uri": "https://localhost:8080/"
        },
        "id": "0NG9eDnns4wd",
        "outputId": "e0c1dc84-6ac4-4b41-b45c-44f8d3ab3fca"
      },
      "source": [
        "X_train.shape"
      ],
      "execution_count": 54,
      "outputs": [
        {
          "output_type": "execute_result",
          "data": {
            "text/plain": [
              "(33075, 11)"
            ]
          },
          "metadata": {
            "tags": []
          },
          "execution_count": 54
        }
      ]
    },
    {
      "cell_type": "code",
      "metadata": {
        "colab": {
          "base_uri": "https://localhost:8080/"
        },
        "id": "HJfC57cRtBnR",
        "outputId": "90aa98ae-d3e5-49b8-8d33-8e49cd563257"
      },
      "source": [
        "X_test.shape"
      ],
      "execution_count": 55,
      "outputs": [
        {
          "output_type": "execute_result",
          "data": {
            "text/plain": [
              "(8269, 11)"
            ]
          },
          "metadata": {
            "tags": []
          },
          "execution_count": 55
        }
      ]
    },
    {
      "cell_type": "code",
      "metadata": {
        "colab": {
          "base_uri": "https://localhost:8080/"
        },
        "id": "JS97EUeE1WTG",
        "outputId": "a60bba82-37bc-42a5-e824-ef8e0a1dc17d"
      },
      "source": [
        "y_train.shape"
      ],
      "execution_count": 56,
      "outputs": [
        {
          "output_type": "execute_result",
          "data": {
            "text/plain": [
              "(33075,)"
            ]
          },
          "metadata": {
            "tags": []
          },
          "execution_count": 56
        }
      ]
    },
    {
      "cell_type": "code",
      "metadata": {
        "id": "9MKpdoe2tHFq"
      },
      "source": [
        "import tensorflow as tf\r\n",
        "from tensorflow.keras.models import Sequential\r\n",
        "from tensorflow.keras.layers import Dense,Dropout"
      ],
      "execution_count": 57,
      "outputs": []
    },
    {
      "cell_type": "code",
      "metadata": {
        "colab": {
          "base_uri": "https://localhost:8080/"
        },
        "id": "g24Py5DQttWN",
        "outputId": "c4057706-6243-4c05-e254-5b7352dc0f90"
      },
      "source": [
        "model = Sequential()\r\n",
        "model.add(Dense(600,input_shape=(11,),activation='relu'))\r\n",
        "#model.add(Dropout(0.2))\r\n",
        "\r\n",
        "model.add(Dense(1,activation='sigmoid'))\r\n",
        "model.compile(loss='binary_crossentropy',optimizer='adam')\r\n",
        "model.fit(x=X_train,y=y_train,validation_data=(X_test,y_test),batch_size=100,epochs=200)"
      ],
      "execution_count": 71,
      "outputs": [
        {
          "output_type": "stream",
          "text": [
            "Epoch 1/200\n",
            "331/331 [==============================] - 1s 3ms/step - loss: 0.6820 - val_loss: 0.6734\n",
            "Epoch 2/200\n",
            "331/331 [==============================] - 1s 2ms/step - loss: 0.6721 - val_loss: 0.6682\n",
            "Epoch 3/200\n",
            "331/331 [==============================] - 1s 2ms/step - loss: 0.6676 - val_loss: 0.6646\n",
            "Epoch 4/200\n",
            "331/331 [==============================] - 1s 2ms/step - loss: 0.6643 - val_loss: 0.6621\n",
            "Epoch 5/200\n",
            "331/331 [==============================] - 1s 2ms/step - loss: 0.6629 - val_loss: 0.6598\n",
            "Epoch 6/200\n",
            "331/331 [==============================] - 1s 2ms/step - loss: 0.6601 - val_loss: 0.6581\n",
            "Epoch 7/200\n",
            "331/331 [==============================] - 1s 2ms/step - loss: 0.6591 - val_loss: 0.6560\n",
            "Epoch 8/200\n",
            "331/331 [==============================] - 1s 2ms/step - loss: 0.6571 - val_loss: 0.6546\n",
            "Epoch 9/200\n",
            "331/331 [==============================] - 1s 2ms/step - loss: 0.6554 - val_loss: 0.6526\n",
            "Epoch 10/200\n",
            "331/331 [==============================] - 1s 2ms/step - loss: 0.6539 - val_loss: 0.6506\n",
            "Epoch 11/200\n",
            "331/331 [==============================] - 1s 2ms/step - loss: 0.6517 - val_loss: 0.6500\n",
            "Epoch 12/200\n",
            "331/331 [==============================] - 1s 2ms/step - loss: 0.6498 - val_loss: 0.6500\n",
            "Epoch 13/200\n",
            "331/331 [==============================] - 1s 2ms/step - loss: 0.6484 - val_loss: 0.6484\n",
            "Epoch 14/200\n",
            "331/331 [==============================] - 1s 2ms/step - loss: 0.6467 - val_loss: 0.6483\n",
            "Epoch 15/200\n",
            "331/331 [==============================] - 1s 2ms/step - loss: 0.6453 - val_loss: 0.6459\n",
            "Epoch 16/200\n",
            "331/331 [==============================] - 1s 2ms/step - loss: 0.6428 - val_loss: 0.6403\n",
            "Epoch 17/200\n",
            "331/331 [==============================] - 1s 2ms/step - loss: 0.6386 - val_loss: 0.6363\n",
            "Epoch 18/200\n",
            "331/331 [==============================] - 1s 2ms/step - loss: 0.6366 - val_loss: 0.6370\n",
            "Epoch 19/200\n",
            "331/331 [==============================] - 1s 2ms/step - loss: 0.6327 - val_loss: 0.6288\n",
            "Epoch 20/200\n",
            "331/331 [==============================] - 1s 2ms/step - loss: 0.6284 - val_loss: 0.6267\n",
            "Epoch 21/200\n",
            "331/331 [==============================] - 1s 2ms/step - loss: 0.6254 - val_loss: 0.6216\n",
            "Epoch 22/200\n",
            "331/331 [==============================] - 1s 2ms/step - loss: 0.6221 - val_loss: 0.6185\n",
            "Epoch 23/200\n",
            "331/331 [==============================] - 1s 2ms/step - loss: 0.6181 - val_loss: 0.6165\n",
            "Epoch 24/200\n",
            "331/331 [==============================] - 1s 2ms/step - loss: 0.6141 - val_loss: 0.6104\n",
            "Epoch 25/200\n",
            "331/331 [==============================] - 1s 2ms/step - loss: 0.6098 - val_loss: 0.6073\n",
            "Epoch 26/200\n",
            "331/331 [==============================] - 1s 2ms/step - loss: 0.6074 - val_loss: 0.6035\n",
            "Epoch 27/200\n",
            "331/331 [==============================] - 1s 2ms/step - loss: 0.6042 - val_loss: 0.6063\n",
            "Epoch 28/200\n",
            "331/331 [==============================] - 1s 2ms/step - loss: 0.6002 - val_loss: 0.5984\n",
            "Epoch 29/200\n",
            "331/331 [==============================] - 1s 2ms/step - loss: 0.5978 - val_loss: 0.5982\n",
            "Epoch 30/200\n",
            "331/331 [==============================] - 1s 2ms/step - loss: 0.5942 - val_loss: 0.5912\n",
            "Epoch 31/200\n",
            "331/331 [==============================] - 1s 2ms/step - loss: 0.5924 - val_loss: 0.5916\n",
            "Epoch 32/200\n",
            "331/331 [==============================] - 1s 2ms/step - loss: 0.5893 - val_loss: 0.5848\n",
            "Epoch 33/200\n",
            "331/331 [==============================] - 1s 2ms/step - loss: 0.5862 - val_loss: 0.5836\n",
            "Epoch 34/200\n",
            "331/331 [==============================] - 1s 2ms/step - loss: 0.5842 - val_loss: 0.5807\n",
            "Epoch 35/200\n",
            "331/331 [==============================] - 1s 2ms/step - loss: 0.5812 - val_loss: 0.5782\n",
            "Epoch 36/200\n",
            "331/331 [==============================] - 1s 2ms/step - loss: 0.5787 - val_loss: 0.5764\n",
            "Epoch 37/200\n",
            "331/331 [==============================] - 1s 2ms/step - loss: 0.5774 - val_loss: 0.5736\n",
            "Epoch 38/200\n",
            "331/331 [==============================] - 1s 2ms/step - loss: 0.5748 - val_loss: 0.5784\n",
            "Epoch 39/200\n",
            "331/331 [==============================] - 1s 2ms/step - loss: 0.5721 - val_loss: 0.5698\n",
            "Epoch 40/200\n",
            "331/331 [==============================] - 1s 2ms/step - loss: 0.5701 - val_loss: 0.5679\n",
            "Epoch 41/200\n",
            "331/331 [==============================] - 1s 2ms/step - loss: 0.5689 - val_loss: 0.5692\n",
            "Epoch 42/200\n",
            "331/331 [==============================] - 1s 2ms/step - loss: 0.5670 - val_loss: 0.5721\n",
            "Epoch 43/200\n",
            "331/331 [==============================] - 1s 2ms/step - loss: 0.5652 - val_loss: 0.5631\n",
            "Epoch 44/200\n",
            "331/331 [==============================] - 1s 2ms/step - loss: 0.5628 - val_loss: 0.5583\n",
            "Epoch 45/200\n",
            "331/331 [==============================] - 1s 2ms/step - loss: 0.5619 - val_loss: 0.5564\n",
            "Epoch 46/200\n",
            "331/331 [==============================] - 1s 2ms/step - loss: 0.5620 - val_loss: 0.5591\n",
            "Epoch 47/200\n",
            "331/331 [==============================] - 1s 2ms/step - loss: 0.5581 - val_loss: 0.5533\n",
            "Epoch 48/200\n",
            "331/331 [==============================] - 1s 2ms/step - loss: 0.5570 - val_loss: 0.5551\n",
            "Epoch 49/200\n",
            "331/331 [==============================] - 1s 2ms/step - loss: 0.5547 - val_loss: 0.5905\n",
            "Epoch 50/200\n",
            "331/331 [==============================] - 1s 2ms/step - loss: 0.5539 - val_loss: 0.5492\n",
            "Epoch 51/200\n",
            "331/331 [==============================] - 1s 2ms/step - loss: 0.5506 - val_loss: 0.5479\n",
            "Epoch 52/200\n",
            "331/331 [==============================] - 1s 2ms/step - loss: 0.5517 - val_loss: 0.5462\n",
            "Epoch 53/200\n",
            "331/331 [==============================] - 1s 2ms/step - loss: 0.5494 - val_loss: 0.5668\n",
            "Epoch 54/200\n",
            "331/331 [==============================] - 1s 2ms/step - loss: 0.5487 - val_loss: 0.5763\n",
            "Epoch 55/200\n",
            "331/331 [==============================] - 1s 2ms/step - loss: 0.5468 - val_loss: 0.5528\n",
            "Epoch 56/200\n",
            "331/331 [==============================] - 1s 2ms/step - loss: 0.5444 - val_loss: 0.5454\n",
            "Epoch 57/200\n",
            "331/331 [==============================] - 1s 2ms/step - loss: 0.5438 - val_loss: 0.5419\n",
            "Epoch 58/200\n",
            "331/331 [==============================] - 1s 2ms/step - loss: 0.5414 - val_loss: 0.5466\n",
            "Epoch 59/200\n",
            "331/331 [==============================] - 1s 2ms/step - loss: 0.5416 - val_loss: 0.5374\n",
            "Epoch 60/200\n",
            "331/331 [==============================] - 1s 2ms/step - loss: 0.5384 - val_loss: 0.5351\n",
            "Epoch 61/200\n",
            "331/331 [==============================] - 1s 2ms/step - loss: 0.5367 - val_loss: 0.5340\n",
            "Epoch 62/200\n",
            "331/331 [==============================] - 1s 2ms/step - loss: 0.5342 - val_loss: 0.5322\n",
            "Epoch 63/200\n",
            "331/331 [==============================] - 1s 2ms/step - loss: 0.5351 - val_loss: 0.5318\n",
            "Epoch 64/200\n",
            "331/331 [==============================] - 1s 2ms/step - loss: 0.5316 - val_loss: 0.5317\n",
            "Epoch 65/200\n",
            "331/331 [==============================] - 1s 2ms/step - loss: 0.5314 - val_loss: 0.5290\n",
            "Epoch 66/200\n",
            "331/331 [==============================] - 1s 2ms/step - loss: 0.5287 - val_loss: 0.5241\n",
            "Epoch 67/200\n",
            "331/331 [==============================] - 1s 2ms/step - loss: 0.5276 - val_loss: 0.5272\n",
            "Epoch 68/200\n",
            "331/331 [==============================] - 1s 2ms/step - loss: 0.5245 - val_loss: 0.5214\n",
            "Epoch 69/200\n",
            "331/331 [==============================] - 1s 2ms/step - loss: 0.5253 - val_loss: 0.5209\n",
            "Epoch 70/200\n",
            "331/331 [==============================] - 1s 2ms/step - loss: 0.5242 - val_loss: 0.5284\n",
            "Epoch 71/200\n",
            "331/331 [==============================] - 1s 2ms/step - loss: 0.5228 - val_loss: 0.5157\n",
            "Epoch 72/200\n",
            "331/331 [==============================] - 1s 2ms/step - loss: 0.5243 - val_loss: 0.5211\n",
            "Epoch 73/200\n",
            "331/331 [==============================] - 1s 2ms/step - loss: 0.5214 - val_loss: 0.5307\n",
            "Epoch 74/200\n",
            "331/331 [==============================] - 1s 2ms/step - loss: 0.5196 - val_loss: 0.5150\n",
            "Epoch 75/200\n",
            "331/331 [==============================] - 1s 2ms/step - loss: 0.5166 - val_loss: 0.5352\n",
            "Epoch 76/200\n",
            "331/331 [==============================] - 1s 2ms/step - loss: 0.5183 - val_loss: 0.5082\n",
            "Epoch 77/200\n",
            "331/331 [==============================] - 1s 2ms/step - loss: 0.5154 - val_loss: 0.5096\n",
            "Epoch 78/200\n",
            "331/331 [==============================] - 1s 2ms/step - loss: 0.5156 - val_loss: 0.5097\n",
            "Epoch 79/200\n",
            "331/331 [==============================] - 1s 2ms/step - loss: 0.5126 - val_loss: 0.5047\n",
            "Epoch 80/200\n",
            "331/331 [==============================] - 1s 2ms/step - loss: 0.5103 - val_loss: 0.5035\n",
            "Epoch 81/200\n",
            "331/331 [==============================] - 1s 2ms/step - loss: 0.5108 - val_loss: 0.5086\n",
            "Epoch 82/200\n",
            "331/331 [==============================] - 1s 2ms/step - loss: 0.5111 - val_loss: 0.5040\n",
            "Epoch 83/200\n",
            "331/331 [==============================] - 1s 2ms/step - loss: 0.5076 - val_loss: 0.5039\n",
            "Epoch 84/200\n",
            "331/331 [==============================] - 1s 2ms/step - loss: 0.5064 - val_loss: 0.5034\n",
            "Epoch 85/200\n",
            "331/331 [==============================] - 1s 2ms/step - loss: 0.5081 - val_loss: 0.5091\n",
            "Epoch 86/200\n",
            "331/331 [==============================] - 1s 2ms/step - loss: 0.5043 - val_loss: 0.4984\n",
            "Epoch 87/200\n",
            "331/331 [==============================] - 1s 2ms/step - loss: 0.5076 - val_loss: 0.5093\n",
            "Epoch 88/200\n",
            "331/331 [==============================] - 1s 2ms/step - loss: 0.5036 - val_loss: 0.4960\n",
            "Epoch 89/200\n",
            "331/331 [==============================] - 1s 2ms/step - loss: 0.5042 - val_loss: 0.5187\n",
            "Epoch 90/200\n",
            "331/331 [==============================] - 1s 2ms/step - loss: 0.5011 - val_loss: 0.4943\n",
            "Epoch 91/200\n",
            "331/331 [==============================] - 1s 2ms/step - loss: 0.4987 - val_loss: 0.4938\n",
            "Epoch 92/200\n",
            "331/331 [==============================] - 1s 2ms/step - loss: 0.4985 - val_loss: 0.4922\n",
            "Epoch 93/200\n",
            "331/331 [==============================] - 1s 2ms/step - loss: 0.4977 - val_loss: 0.4936\n",
            "Epoch 94/200\n",
            "331/331 [==============================] - 1s 2ms/step - loss: 0.4971 - val_loss: 0.4906\n",
            "Epoch 95/200\n",
            "331/331 [==============================] - 1s 2ms/step - loss: 0.4959 - val_loss: 0.5184\n",
            "Epoch 96/200\n",
            "331/331 [==============================] - 1s 2ms/step - loss: 0.4940 - val_loss: 0.4859\n",
            "Epoch 97/200\n",
            "331/331 [==============================] - 1s 2ms/step - loss: 0.4953 - val_loss: 0.4858\n",
            "Epoch 98/200\n",
            "331/331 [==============================] - 1s 2ms/step - loss: 0.4937 - val_loss: 0.4839\n",
            "Epoch 99/200\n",
            "331/331 [==============================] - 1s 2ms/step - loss: 0.4933 - val_loss: 0.4870\n",
            "Epoch 100/200\n",
            "331/331 [==============================] - 1s 2ms/step - loss: 0.4914 - val_loss: 0.4824\n",
            "Epoch 101/200\n",
            "331/331 [==============================] - 1s 2ms/step - loss: 0.4903 - val_loss: 0.5123\n",
            "Epoch 102/200\n",
            "331/331 [==============================] - 1s 2ms/step - loss: 0.4912 - val_loss: 0.4860\n",
            "Epoch 103/200\n",
            "331/331 [==============================] - 1s 2ms/step - loss: 0.4891 - val_loss: 0.4858\n",
            "Epoch 104/200\n",
            "331/331 [==============================] - 1s 2ms/step - loss: 0.4891 - val_loss: 0.4833\n",
            "Epoch 105/200\n",
            "331/331 [==============================] - 1s 2ms/step - loss: 0.4894 - val_loss: 0.5132\n",
            "Epoch 106/200\n",
            "331/331 [==============================] - 1s 2ms/step - loss: 0.4867 - val_loss: 0.4800\n",
            "Epoch 107/200\n",
            "331/331 [==============================] - 1s 2ms/step - loss: 0.4859 - val_loss: 0.4853\n",
            "Epoch 108/200\n",
            "331/331 [==============================] - 1s 2ms/step - loss: 0.4854 - val_loss: 0.4751\n",
            "Epoch 109/200\n",
            "331/331 [==============================] - 1s 2ms/step - loss: 0.4836 - val_loss: 0.4760\n",
            "Epoch 110/200\n",
            "331/331 [==============================] - 1s 2ms/step - loss: 0.4861 - val_loss: 0.4760\n",
            "Epoch 111/200\n",
            "331/331 [==============================] - 1s 2ms/step - loss: 0.4820 - val_loss: 0.4791\n",
            "Epoch 112/200\n",
            "331/331 [==============================] - 1s 2ms/step - loss: 0.4826 - val_loss: 0.4737\n",
            "Epoch 113/200\n",
            "331/331 [==============================] - 1s 2ms/step - loss: 0.4829 - val_loss: 0.4819\n",
            "Epoch 114/200\n",
            "331/331 [==============================] - 1s 2ms/step - loss: 0.4813 - val_loss: 0.4950\n",
            "Epoch 115/200\n",
            "331/331 [==============================] - 1s 2ms/step - loss: 0.4823 - val_loss: 0.4735\n",
            "Epoch 116/200\n",
            "331/331 [==============================] - 1s 2ms/step - loss: 0.4802 - val_loss: 0.4748\n",
            "Epoch 117/200\n",
            "331/331 [==============================] - 1s 2ms/step - loss: 0.4787 - val_loss: 0.4766\n",
            "Epoch 118/200\n",
            "331/331 [==============================] - 1s 2ms/step - loss: 0.4792 - val_loss: 0.4714\n",
            "Epoch 119/200\n",
            "331/331 [==============================] - 1s 2ms/step - loss: 0.4794 - val_loss: 0.4769\n",
            "Epoch 120/200\n",
            "331/331 [==============================] - 1s 2ms/step - loss: 0.4792 - val_loss: 0.4703\n",
            "Epoch 121/200\n",
            "331/331 [==============================] - 1s 2ms/step - loss: 0.4772 - val_loss: 0.4708\n",
            "Epoch 122/200\n",
            "331/331 [==============================] - 1s 2ms/step - loss: 0.4777 - val_loss: 0.4798\n",
            "Epoch 123/200\n",
            "331/331 [==============================] - 1s 2ms/step - loss: 0.4756 - val_loss: 0.4696\n",
            "Epoch 124/200\n",
            "331/331 [==============================] - 1s 2ms/step - loss: 0.4787 - val_loss: 0.4659\n",
            "Epoch 125/200\n",
            "331/331 [==============================] - 1s 2ms/step - loss: 0.4756 - val_loss: 0.4678\n",
            "Epoch 126/200\n",
            "331/331 [==============================] - 1s 2ms/step - loss: 0.4740 - val_loss: 0.4670\n",
            "Epoch 127/200\n",
            "331/331 [==============================] - 1s 2ms/step - loss: 0.4743 - val_loss: 0.4662\n",
            "Epoch 128/200\n",
            "331/331 [==============================] - 1s 2ms/step - loss: 0.4742 - val_loss: 0.4752\n",
            "Epoch 129/200\n",
            "331/331 [==============================] - 1s 2ms/step - loss: 0.4730 - val_loss: 0.4649\n",
            "Epoch 130/200\n",
            "331/331 [==============================] - 1s 2ms/step - loss: 0.4732 - val_loss: 0.4904\n",
            "Epoch 131/200\n",
            "331/331 [==============================] - 1s 2ms/step - loss: 0.4721 - val_loss: 0.4617\n",
            "Epoch 132/200\n",
            "331/331 [==============================] - 1s 2ms/step - loss: 0.4714 - val_loss: 0.4846\n",
            "Epoch 133/200\n",
            "331/331 [==============================] - 1s 2ms/step - loss: 0.4713 - val_loss: 0.4623\n",
            "Epoch 134/200\n",
            "331/331 [==============================] - 1s 2ms/step - loss: 0.4725 - val_loss: 0.4661\n",
            "Epoch 135/200\n",
            "331/331 [==============================] - 1s 2ms/step - loss: 0.4687 - val_loss: 0.4659\n",
            "Epoch 136/200\n",
            "331/331 [==============================] - 1s 2ms/step - loss: 0.4684 - val_loss: 0.4615\n",
            "Epoch 137/200\n",
            "331/331 [==============================] - 1s 2ms/step - loss: 0.4683 - val_loss: 0.4680\n",
            "Epoch 138/200\n",
            "331/331 [==============================] - 1s 2ms/step - loss: 0.4688 - val_loss: 0.4573\n",
            "Epoch 139/200\n",
            "331/331 [==============================] - 1s 2ms/step - loss: 0.4676 - val_loss: 0.4661\n",
            "Epoch 140/200\n",
            "331/331 [==============================] - 1s 2ms/step - loss: 0.4682 - val_loss: 0.4581\n",
            "Epoch 141/200\n",
            "331/331 [==============================] - 1s 2ms/step - loss: 0.4668 - val_loss: 0.4629\n",
            "Epoch 142/200\n",
            "331/331 [==============================] - 1s 2ms/step - loss: 0.4683 - val_loss: 0.4608\n",
            "Epoch 143/200\n",
            "331/331 [==============================] - 1s 2ms/step - loss: 0.4649 - val_loss: 0.4649\n",
            "Epoch 144/200\n",
            "331/331 [==============================] - 1s 2ms/step - loss: 0.4652 - val_loss: 0.4713\n",
            "Epoch 145/200\n",
            "331/331 [==============================] - 1s 2ms/step - loss: 0.4658 - val_loss: 0.4553\n",
            "Epoch 146/200\n",
            "331/331 [==============================] - 1s 2ms/step - loss: 0.4637 - val_loss: 0.4580\n",
            "Epoch 147/200\n",
            "331/331 [==============================] - 1s 2ms/step - loss: 0.4644 - val_loss: 0.4569\n",
            "Epoch 148/200\n",
            "331/331 [==============================] - 1s 2ms/step - loss: 0.4637 - val_loss: 0.4614\n",
            "Epoch 149/200\n",
            "331/331 [==============================] - 1s 2ms/step - loss: 0.4633 - val_loss: 0.4688\n",
            "Epoch 150/200\n",
            "331/331 [==============================] - 1s 2ms/step - loss: 0.4630 - val_loss: 0.4566\n",
            "Epoch 151/200\n",
            "331/331 [==============================] - 1s 2ms/step - loss: 0.4647 - val_loss: 0.4523\n",
            "Epoch 152/200\n",
            "331/331 [==============================] - 1s 2ms/step - loss: 0.4624 - val_loss: 0.4530\n",
            "Epoch 153/200\n",
            "331/331 [==============================] - 1s 2ms/step - loss: 0.4605 - val_loss: 0.4786\n",
            "Epoch 154/200\n",
            "331/331 [==============================] - 1s 2ms/step - loss: 0.4620 - val_loss: 0.4580\n",
            "Epoch 155/200\n",
            "331/331 [==============================] - 1s 2ms/step - loss: 0.4634 - val_loss: 0.4546\n",
            "Epoch 156/200\n",
            "331/331 [==============================] - 1s 2ms/step - loss: 0.4613 - val_loss: 0.4525\n",
            "Epoch 157/200\n",
            "331/331 [==============================] - 1s 2ms/step - loss: 0.4594 - val_loss: 0.4505\n",
            "Epoch 158/200\n",
            "331/331 [==============================] - 1s 2ms/step - loss: 0.4577 - val_loss: 0.4503\n",
            "Epoch 159/200\n",
            "331/331 [==============================] - 1s 2ms/step - loss: 0.4589 - val_loss: 0.4607\n",
            "Epoch 160/200\n",
            "331/331 [==============================] - 1s 2ms/step - loss: 0.4601 - val_loss: 0.4503\n",
            "Epoch 161/200\n",
            "331/331 [==============================] - 1s 2ms/step - loss: 0.4576 - val_loss: 0.4501\n",
            "Epoch 162/200\n",
            "331/331 [==============================] - 1s 2ms/step - loss: 0.4582 - val_loss: 0.4581\n",
            "Epoch 163/200\n",
            "331/331 [==============================] - 1s 2ms/step - loss: 0.4585 - val_loss: 0.4554\n",
            "Epoch 164/200\n",
            "331/331 [==============================] - 1s 2ms/step - loss: 0.4594 - val_loss: 0.4611\n",
            "Epoch 165/200\n",
            "331/331 [==============================] - 1s 2ms/step - loss: 0.4575 - val_loss: 0.4492\n",
            "Epoch 166/200\n",
            "331/331 [==============================] - 1s 2ms/step - loss: 0.4541 - val_loss: 0.4500\n",
            "Epoch 167/200\n",
            "331/331 [==============================] - 1s 2ms/step - loss: 0.4557 - val_loss: 0.4513\n",
            "Epoch 168/200\n",
            "331/331 [==============================] - 1s 2ms/step - loss: 0.4577 - val_loss: 0.4575\n",
            "Epoch 169/200\n",
            "331/331 [==============================] - 1s 2ms/step - loss: 0.4544 - val_loss: 0.4671\n",
            "Epoch 170/200\n",
            "331/331 [==============================] - 1s 2ms/step - loss: 0.4546 - val_loss: 0.4497\n",
            "Epoch 171/200\n",
            "331/331 [==============================] - 1s 2ms/step - loss: 0.4546 - val_loss: 0.4691\n",
            "Epoch 172/200\n",
            "331/331 [==============================] - 1s 2ms/step - loss: 0.4600 - val_loss: 0.4527\n",
            "Epoch 173/200\n",
            "331/331 [==============================] - 1s 2ms/step - loss: 0.4530 - val_loss: 0.4501\n",
            "Epoch 174/200\n",
            "331/331 [==============================] - 1s 2ms/step - loss: 0.4557 - val_loss: 0.4446\n",
            "Epoch 175/200\n",
            "331/331 [==============================] - 1s 2ms/step - loss: 0.4529 - val_loss: 0.4551\n",
            "Epoch 176/200\n",
            "331/331 [==============================] - 1s 2ms/step - loss: 0.4529 - val_loss: 0.4558\n",
            "Epoch 177/200\n",
            "331/331 [==============================] - 1s 2ms/step - loss: 0.4509 - val_loss: 0.4553\n",
            "Epoch 178/200\n",
            "331/331 [==============================] - 1s 2ms/step - loss: 0.4497 - val_loss: 0.4453\n",
            "Epoch 179/200\n",
            "331/331 [==============================] - 1s 2ms/step - loss: 0.4514 - val_loss: 0.4461\n",
            "Epoch 180/200\n",
            "331/331 [==============================] - 1s 2ms/step - loss: 0.4506 - val_loss: 0.4439\n",
            "Epoch 181/200\n",
            "331/331 [==============================] - 1s 2ms/step - loss: 0.4522 - val_loss: 0.4437\n",
            "Epoch 182/200\n",
            "331/331 [==============================] - 1s 2ms/step - loss: 0.4532 - val_loss: 0.4528\n",
            "Epoch 183/200\n",
            "331/331 [==============================] - 1s 3ms/step - loss: 0.4492 - val_loss: 0.4416\n",
            "Epoch 184/200\n",
            "331/331 [==============================] - 1s 3ms/step - loss: 0.4512 - val_loss: 0.4483\n",
            "Epoch 185/200\n",
            "331/331 [==============================] - 1s 2ms/step - loss: 0.4504 - val_loss: 0.4437\n",
            "Epoch 186/200\n",
            "331/331 [==============================] - 1s 2ms/step - loss: 0.4512 - val_loss: 0.4455\n",
            "Epoch 187/200\n",
            "331/331 [==============================] - 1s 2ms/step - loss: 0.4485 - val_loss: 0.4421\n",
            "Epoch 188/200\n",
            "331/331 [==============================] - 1s 2ms/step - loss: 0.4481 - val_loss: 0.4710\n",
            "Epoch 189/200\n",
            "331/331 [==============================] - 1s 2ms/step - loss: 0.4517 - val_loss: 0.4416\n",
            "Epoch 190/200\n",
            "331/331 [==============================] - 1s 2ms/step - loss: 0.4467 - val_loss: 0.4514\n",
            "Epoch 191/200\n",
            "331/331 [==============================] - 1s 2ms/step - loss: 0.4485 - val_loss: 0.4428\n",
            "Epoch 192/200\n",
            "331/331 [==============================] - 1s 2ms/step - loss: 0.4467 - val_loss: 0.4549\n",
            "Epoch 193/200\n",
            "331/331 [==============================] - 1s 3ms/step - loss: 0.4461 - val_loss: 0.4529\n",
            "Epoch 194/200\n",
            "331/331 [==============================] - 1s 3ms/step - loss: 0.4442 - val_loss: 0.4405\n",
            "Epoch 195/200\n",
            "331/331 [==============================] - 1s 2ms/step - loss: 0.4487 - val_loss: 0.4428\n",
            "Epoch 196/200\n",
            "331/331 [==============================] - 1s 2ms/step - loss: 0.4444 - val_loss: 0.4452\n",
            "Epoch 197/200\n",
            "331/331 [==============================] - 1s 2ms/step - loss: 0.4457 - val_loss: 0.4469\n",
            "Epoch 198/200\n",
            "331/331 [==============================] - 1s 3ms/step - loss: 0.4453 - val_loss: 0.4395\n",
            "Epoch 199/200\n",
            "331/331 [==============================] - 1s 3ms/step - loss: 0.4445 - val_loss: 0.4391\n",
            "Epoch 200/200\n",
            "331/331 [==============================] - 1s 3ms/step - loss: 0.4445 - val_loss: 0.4387\n"
          ],
          "name": "stdout"
        },
        {
          "output_type": "execute_result",
          "data": {
            "text/plain": [
              "<tensorflow.python.keras.callbacks.History at 0x7f7ae2dd05f8>"
            ]
          },
          "metadata": {
            "tags": []
          },
          "execution_count": 71
        }
      ]
    },
    {
      "cell_type": "code",
      "metadata": {
        "id": "deF37IfAv7R3"
      },
      "source": [
        "losses = pd.DataFrame(model.history.history)"
      ],
      "execution_count": 72,
      "outputs": []
    },
    {
      "cell_type": "code",
      "metadata": {
        "colab": {
          "base_uri": "https://localhost:8080/",
          "height": 283
        },
        "id": "r4057Px0wgY6",
        "outputId": "7baef9fc-6a77-4d69-cc26-2144b839eb4c"
      },
      "source": [
        "losses.plot()"
      ],
      "execution_count": 73,
      "outputs": [
        {
          "output_type": "execute_result",
          "data": {
            "text/plain": [
              "<matplotlib.axes._subplots.AxesSubplot at 0x7f7ae3e19550>"
            ]
          },
          "metadata": {
            "tags": []
          },
          "execution_count": 73
        },
        {
          "output_type": "display_data",
          "data": {
            "image/png": "[encoded data removed]",
            "text/plain": [
              "<Figure size 432x288 with 1 Axes>"
            ]
          },
          "metadata": {
            "tags": [],
            "needs_background": "light"
          }
        }
      ]
    },
    {
      "cell_type": "code",
      "metadata": {
        "id": "lQkrebIywjje"
      },
      "source": [
        "predictions = model.predict_classes(X_test)"
      ],
      "execution_count": 61,
      "outputs": []
    },
    {
      "cell_type": "code",
      "metadata": {
        "colab": {
          "base_uri": "https://localhost:8080/"
        },
        "id": "QlLJi2lwyjfI",
        "outputId": "7b1746fb-8a34-492a-dc41-e6272167d3c8"
      },
      "source": [
        "predictions[:10]"
      ],
      "execution_count": 79,
      "outputs": [
        {
          "output_type": "execute_result",
          "data": {
            "text/plain": [
              "array([[0],\n",
              "       [0],\n",
              "       [0],\n",
              "       [0],\n",
              "       [1],\n",
              "       [1],\n",
              "       [0],\n",
              "       [0],\n",
              "       [0],\n",
              "       [1]], dtype=int32)"
            ]
          },
          "metadata": {
            "tags": []
          },
          "execution_count": 79
        }
      ]
    },
    {
      "cell_type": "code",
      "metadata": {
        "colab": {
          "base_uri": "https://localhost:8080/"
        },
        "id": "pP1OI7W_59DY",
        "outputId": "13e4dfeb-1a2f-4d53-de52-f343ac80c556"
      },
      "source": [
        "y_test[:10]"
      ],
      "execution_count": 80,
      "outputs": [
        {
          "output_type": "execute_result",
          "data": {
            "text/plain": [
              "array([0, 1, 0, 0, 0, 1, 0, 1, 0, 1])"
            ]
          },
          "metadata": {
            "tags": []
          },
          "execution_count": 80
        }
      ]
    },
    {
      "cell_type": "code",
      "metadata": {
        "colab": {
          "base_uri": "https://localhost:8080/"
        },
        "id": "boctdbGO0L66",
        "outputId": "c490cb97-a162-4270-d3fc-45530360e9af"
      },
      "source": [
        "print(sklearn.metrics.accuracy_score(predictions,y_test))"
      ],
      "execution_count": 77,
      "outputs": [
        {
          "output_type": "stream",
          "text": [
            "0.7570443826339339\n"
          ],
          "name": "stdout"
        }
      ]
    },
    {
      "cell_type": "code",
      "metadata": {
        "id": "3xKOjO1l8ieO"
      },
      "source": [
        ""
      ],
      "execution_count": null,
      "outputs": []
    }
  ]
}